Dette skal være en notebook
